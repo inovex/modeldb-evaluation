{
 "cells": [
  {
   "cell_type": "code",
   "execution_count": 3,
   "metadata": {
    "scrolled": true
   },
   "outputs": [
    {
     "data": {
      "text/plain": [
       "<matplotlib.figure.Figure at 0x117ea5128>"
      ]
     },
     "metadata": {},
     "output_type": "display_data"
    }
   ],
   "source": [
    "# %load '~/playground/basic.py'\n",
    "import os\n",
    "from pathlib import Path\n",
    "from IPython.display import display as ipd\n",
    "\n",
    "import numpy as np\n",
    "import scipy\n",
    "import pandas as pd\n",
    "import pandas_profiling\n",
    "\n",
    "import matplotlib as mpl\n",
    "import matplotlib.pyplot as plt\n",
    "import seaborn as sns\n",
    "import sklearn as sklearn\n",
    "\n",
    "from datetime import datetime as dt\n",
    "\n",
    "%matplotlib inline\n",
    "%config InlineBackend.figure_format = 'retina'\n",
    "%matplotlib inline\n",
    "plt.figure(figsize=(20,10))\n",
    "mpl.rcParams['figure.figsize'] = (20, 5)\n",
    "import mypackage\n",
    "import funniest\n",
    "\n",
    "%load_ext autoreload\n",
    "%autoreload 2\n",
    "\n",
    "sns.set_context(\"poster\")\n",
    "sns.set(rc={'figure.figsize': (16., 9.)})\n",
    "sns.set_style(\"whitegrid\")\n",
    "cm = sns.light_palette(\"green\", as_cmap=True)\n",
    "\n",
    "# exec(open(\"./shared.py\").read())\n",
    "# import shared"
   ]
  },
  {
   "cell_type": "code",
   "execution_count": 4,
   "metadata": {},
   "outputs": [
    {
     "name": "stdout",
     "output_type": "stream",
     "text": [
      "Wenn ist das Nunstück git und Slotermeyer? doch! ... ab das Oder die Flipperwaldt gersput.\n"
     ]
    }
   ],
   "source": [
    "print(funniest.joke())"
   ]
  },
  {
   "cell_type": "code",
   "execution_count": 5,
   "metadata": {},
   "outputs": [
    {
     "data": {
      "text/plain": [
       "5"
      ]
     },
     "execution_count": 5,
     "metadata": {},
     "output_type": "execute_result"
    }
   ],
   "source": [
    "from mypackage import skeleton\n",
    "skeleton.fib(5)"
   ]
  },
  {
   "cell_type": "markdown",
   "metadata": {
    "collapsed": true
   },
   "source": [
    "# Load Dataset"
   ]
  },
  {
   "cell_type": "code",
   "execution_count": 6,
   "metadata": {},
   "outputs": [
    {
     "data": {
      "text/html": [
       "<div>\n",
       "<table border=\"1\" class=\"dataframe\">\n",
       "  <thead>\n",
       "    <tr style=\"text-align: right;\">\n",
       "      <th></th>\n",
       "      <th>CRIM</th>\n",
       "      <th>ZN</th>\n",
       "      <th>INDUS</th>\n",
       "      <th>CHAS</th>\n",
       "      <th>NOX</th>\n",
       "      <th>RM</th>\n",
       "      <th>AGE</th>\n",
       "      <th>DIS</th>\n",
       "      <th>RAD</th>\n",
       "      <th>TAX</th>\n",
       "      <th>PTRATIO</th>\n",
       "      <th>B</th>\n",
       "      <th>LSTAT</th>\n",
       "      <th>target</th>\n",
       "    </tr>\n",
       "  </thead>\n",
       "  <tbody>\n",
       "    <tr>\n",
       "      <th>88</th>\n",
       "      <td>0.05660</td>\n",
       "      <td>0.0</td>\n",
       "      <td>3.41</td>\n",
       "      <td>0.0</td>\n",
       "      <td>0.489</td>\n",
       "      <td>7.007</td>\n",
       "      <td>86.3</td>\n",
       "      <td>3.4217</td>\n",
       "      <td>2.0</td>\n",
       "      <td>270.0</td>\n",
       "      <td>17.8</td>\n",
       "      <td>396.90</td>\n",
       "      <td>5.50</td>\n",
       "      <td>23.6</td>\n",
       "    </tr>\n",
       "    <tr>\n",
       "      <th>356</th>\n",
       "      <td>8.98296</td>\n",
       "      <td>0.0</td>\n",
       "      <td>18.10</td>\n",
       "      <td>1.0</td>\n",
       "      <td>0.770</td>\n",
       "      <td>6.212</td>\n",
       "      <td>97.4</td>\n",
       "      <td>2.1222</td>\n",
       "      <td>24.0</td>\n",
       "      <td>666.0</td>\n",
       "      <td>20.2</td>\n",
       "      <td>377.73</td>\n",
       "      <td>17.60</td>\n",
       "      <td>17.8</td>\n",
       "    </tr>\n",
       "    <tr>\n",
       "      <th>458</th>\n",
       "      <td>7.75223</td>\n",
       "      <td>0.0</td>\n",
       "      <td>18.10</td>\n",
       "      <td>0.0</td>\n",
       "      <td>0.713</td>\n",
       "      <td>6.301</td>\n",
       "      <td>83.7</td>\n",
       "      <td>2.7831</td>\n",
       "      <td>24.0</td>\n",
       "      <td>666.0</td>\n",
       "      <td>20.2</td>\n",
       "      <td>272.21</td>\n",
       "      <td>16.23</td>\n",
       "      <td>14.9</td>\n",
       "    </tr>\n",
       "    <tr>\n",
       "      <th>66</th>\n",
       "      <td>0.04379</td>\n",
       "      <td>80.0</td>\n",
       "      <td>3.37</td>\n",
       "      <td>0.0</td>\n",
       "      <td>0.398</td>\n",
       "      <td>5.787</td>\n",
       "      <td>31.1</td>\n",
       "      <td>6.6115</td>\n",
       "      <td>4.0</td>\n",
       "      <td>337.0</td>\n",
       "      <td>16.1</td>\n",
       "      <td>396.90</td>\n",
       "      <td>10.24</td>\n",
       "      <td>19.4</td>\n",
       "    </tr>\n",
       "    <tr>\n",
       "      <th>223</th>\n",
       "      <td>0.61470</td>\n",
       "      <td>0.0</td>\n",
       "      <td>6.20</td>\n",
       "      <td>0.0</td>\n",
       "      <td>0.507</td>\n",
       "      <td>6.618</td>\n",
       "      <td>80.8</td>\n",
       "      <td>3.2721</td>\n",
       "      <td>8.0</td>\n",
       "      <td>307.0</td>\n",
       "      <td>17.4</td>\n",
       "      <td>396.90</td>\n",
       "      <td>7.60</td>\n",
       "      <td>30.1</td>\n",
       "    </tr>\n",
       "  </tbody>\n",
       "</table>\n",
       "</div>"
      ],
      "text/plain": [
       "        CRIM    ZN  INDUS  CHAS    NOX     RM   AGE     DIS   RAD    TAX  \\\n",
       "88   0.05660   0.0   3.41   0.0  0.489  7.007  86.3  3.4217   2.0  270.0   \n",
       "356  8.98296   0.0  18.10   1.0  0.770  6.212  97.4  2.1222  24.0  666.0   \n",
       "458  7.75223   0.0  18.10   0.0  0.713  6.301  83.7  2.7831  24.0  666.0   \n",
       "66   0.04379  80.0   3.37   0.0  0.398  5.787  31.1  6.6115   4.0  337.0   \n",
       "223  0.61470   0.0   6.20   0.0  0.507  6.618  80.8  3.2721   8.0  307.0   \n",
       "\n",
       "     PTRATIO       B  LSTAT  target  \n",
       "88      17.8  396.90   5.50    23.6  \n",
       "356     20.2  377.73  17.60    17.8  \n",
       "458     20.2  272.21  16.23    14.9  \n",
       "66      16.1  396.90  10.24    19.4  \n",
       "223     17.4  396.90   7.60    30.1  "
      ]
     },
     "metadata": {},
     "output_type": "display_data"
    },
    {
     "name": "stderr",
     "output_type": "stream",
     "text": [
      "/Users/nkreiling/miniconda3/lib/python3.6/site-packages/sklearn/cross_validation.py:41: DeprecationWarning: This module was deprecated in version 0.18 in favor of the model_selection module into which all the refactored classes and functions are moved. Also note that the interface of the new CV iterators are different from that of this module. This module will be removed in 0.20.\n",
      "  \"This module will be removed in 0.20.\", DeprecationWarning)\n"
     ]
    }
   ],
   "source": [
    "import pandas as pd\n",
    "from sklearn.datasets import load_boston\n",
    "boston = load_boston()\n",
    "\n",
    "data = pd.DataFrame(boston.data,columns=boston.feature_names)\n",
    "data['target'] = pd.Series(boston.target)\n",
    "ipd(data.sample(5))\n",
    "\n",
    "from sklearn.cross_validation import train_test_split\n",
    "x_train, x_test, y_train, y_test = train_test_split(data.iloc[:,:-1], data.iloc[:,-1], test_size=10, random_state=42)"
   ]
  },
  {
   "cell_type": "markdown",
   "metadata": {},
   "source": [
    "# Normal Training"
   ]
  },
  {
   "cell_type": "code",
   "execution_count": 25,
   "metadata": {},
   "outputs": [
    {
     "data": {
      "text/plain": [
       "LinearRegression(copy_X=True, fit_intercept=True, n_jobs=1, normalize=False)"
      ]
     },
     "execution_count": 25,
     "metadata": {},
     "output_type": "execute_result"
    }
   ],
   "source": [
    "from sklearn.linear_model import LinearRegression\n",
    "regr_one_feature = LinearRegression()\n",
    "regr_one_feature.fit(x_train, y_train)"
   ]
  },
  {
   "cell_type": "code",
   "execution_count": 26,
   "metadata": {},
   "outputs": [
    {
     "data": {
      "text/plain": [
       "9.203879048168957"
      ]
     },
     "execution_count": 26,
     "metadata": {},
     "output_type": "execute_result"
    }
   ],
   "source": [
    "from sklearn.metrics import mean_squared_error # Same as the computation above the plot\n",
    "mean_squared_error(y_test, regr_one_feature.predict(x_test))"
   ]
  },
  {
   "cell_type": "code",
   "execution_count": 27,
   "metadata": {},
   "outputs": [
    {
     "data": {
      "text/plain": [
       "0.8743356986050591"
      ]
     },
     "execution_count": 27,
     "metadata": {},
     "output_type": "execute_result"
    }
   ],
   "source": [
    "from sklearn.metrics import explained_variance_score\n",
    "explained_variance_score(y_test, regr_one_feature.predict(x_test))"
   ]
  },
  {
   "cell_type": "code",
   "execution_count": 28,
   "metadata": {},
   "outputs": [
    {
     "data": {
      "text/plain": [
       "2.4988473085061393"
      ]
     },
     "execution_count": 28,
     "metadata": {},
     "output_type": "execute_result"
    }
   ],
   "source": [
    "from sklearn.metrics import mean_absolute_error\n",
    "mean_absolute_error(y_test, regr_one_feature.predict(x_test))"
   ]
  },
  {
   "cell_type": "markdown",
   "metadata": {
    "collapsed": true
   },
   "source": [
    "# Integrate ModelDB"
   ]
  },
  {
   "cell_type": "code",
   "execution_count": 1,
   "metadata": {},
   "outputs": [],
   "source": [
    "%load_ext autoreload\n",
    "%autoreload 2"
   ]
  },
  {
   "cell_type": "code",
   "execution_count": 9,
   "metadata": {},
   "outputs": [],
   "source": [
    "import pandas as pd\n",
    "import pkg_resources\n",
    "pkg_resources.require(\"modeldb==0.0.1a30\")\n",
    "import modeldb.sklearn_native.ModelDbSyncer as mdb\n",
    "from modeldb.sklearn_native import SyncableMetrics\n",
    "\n",
    "from sklearn.datasets import load_boston\n",
    "boston = load_boston()\n",
    "\n",
    "data = pd.DataFrame(boston.data,columns=boston.feature_names)\n",
    "data['target'] = pd.Series(boston.target)\n",
    "\n",
    "name = \"ModelDB Brownbag\"\n",
    "author = \"Nico\"\n",
    "description = \"using Bosten Housing Dataset\"\n",
    "syncer_obj = mdb.Syncer(\n",
    "    mdb.NewOrExistingProject(name, author, description),\n",
    "    mdb.DefaultExperiment(),\n",
    "    mdb.NewExperimentRun(\"Abc\"))\n",
    "\n",
    "# test_data, train_data = mdb.cross_validation.train_test_split_sync(data, test_size=0.8, random_state=42)\n",
    "x_train, x_test, y_train, y_test = mdb.cross_validation.train_test_split_sync(data.iloc[:,:-1], data.iloc[:,-1], test_size=10, random_state=42)"
   ]
  },
  {
   "cell_type": "code",
   "execution_count": 10,
   "metadata": {},
   "outputs": [],
   "source": [
    "import modeldb.sklearn_native.ModelDbSyncer as mdb\n",
    "linreg = mdb.linear_model.LinearRegression()\n",
    "linreg.fit_sync(x_train, y_train)\n",
    "test_pred = linreg.predict_sync(x_test)\n",
    "\n",
    "import modeldb.sklearn_native.SyncableMetrics\n",
    "from sklearn.metrics import mean_absolute_error\n",
    "accuracy = SyncableMetrics.compute_metrics(linreg, mean_absolute_error, y_test, test_pred, data.iloc[:,:-1].values,\"predictionCol\", 'target')\n",
    "syncer_obj.sync()"
   ]
  },
  {
   "cell_type": "code",
   "execution_count": 11,
   "metadata": {},
   "outputs": [],
   "source": [
    "model = mdb.linear_model.Ridge()\n",
    "model.fit_sync(x_train, y_train)\n",
    "test_pred = model.predict_sync(x_test)\n",
    "\n",
    "accuracy = SyncableMetrics.compute_metrics(model, mean_absolute_error, y_test, test_pred, data.iloc[:,:-1].values,\"predictionCol\", 'target')\n",
    "syncer_obj.sync()"
   ]
  },
  {
   "cell_type": "code",
   "execution_count": 12,
   "metadata": {},
   "outputs": [],
   "source": [
    "model = mdb.linear_model.ElasticNet()\n",
    "model.fit_sync(x_train, y_train)\n",
    "test_pred = model.predict_sync(x_test)\n",
    "\n",
    "accuracy = SyncableMetrics.compute_metrics(model, mean_absolute_error, y_test, test_pred, data.iloc[:,:-1].values,\"predictionCol\", 'target')\n",
    "syncer_obj.sync()"
   ]
  },
  {
   "cell_type": "code",
   "execution_count": 16,
   "metadata": {},
   "outputs": [],
   "source": [
    "lasso = mdb.linear_model.Lasso()\n",
    "lasso.fit_sync(x_train,y_train)\n",
    "test_pred = lasso.predict_sync(x_test)\n",
    "\n",
    "accuracy = SyncableMetrics.compute_metrics(lasso, mean_absolute_error, y_test, test_pred, data.iloc[:,:-1].values,\"predictionCol\", 'target')\n",
    "syncer_obj.sync()"
   ]
  },
  {
   "cell_type": "markdown",
   "metadata": {},
   "source": [
    "# Cross-Validation"
   ]
  },
  {
   "cell_type": "code",
   "execution_count": 14,
   "metadata": {},
   "outputs": [
    {
     "data": {
      "text/plain": [
       "array([0.7339495 , 0.86318965, 0.7040027 , 0.49518488, 0.16083559])"
      ]
     },
     "metadata": {},
     "output_type": "display_data"
    },
    {
     "name": "stdout",
     "output_type": "stream",
     "text": [
      "MAE: 0.59 (+/- 0.49)\n"
     ]
    }
   ],
   "source": [
    "from sklearn.cross_validation import cross_val_score\n",
    "from sklearn.ensemble import RandomForestRegressor\n",
    "clf = RandomForestRegressor()\n",
    "scores = cross_val_score(clf, data.iloc[:,:-1], data.iloc[:,-1], cv=5)\n",
    "ipd(scores)\n",
    "print(\"MAE: %0.2f (+/- %0.2f)\" % (scores.mean(), scores.std() * 2)) \n",
    "accuracy = SyncableMetrics.compute_metrics(clf, mean_absolute_error, y_test, test_pred, data.iloc[:,:-1].values,\"predictionCol\", 'target')"
   ]
  },
  {
   "cell_type": "markdown",
   "metadata": {},
   "source": [
    "# Hyper Parameter Tuning"
   ]
  },
  {
   "cell_type": "code",
   "execution_count": 6,
   "metadata": {},
   "outputs": [
    {
     "name": "stdout",
     "output_type": "stream",
     "text": [
      "The model is trained on the full development set.\n",
      "The scores are computed on the full evaluation set.\n"
     ]
    },
    {
     "name": "stderr",
     "output_type": "stream",
     "text": [
      "/Users/nkreiling/miniconda3/lib/python3.6/site-packages/sklearn/metrics/classification.py:1203: DeprecationWarning: The default `weighted` averaging is deprecated, and from version 0.18, use of precision, recall or F-score with multiclass or multilabel data or pos_label=None will result in an exception. Please set an explicit value for `average`, one of (None, 'micro', 'macro', 'weighted', 'samples'). In cross validation use, for instance, scoring=\"f1_weighted\" instead of scoring=\"f1\".\n",
      "  sample_weight=sample_weight)\n"
     ]
    }
   ],
   "source": [
    "from sklearn.grid_search import GridSearchCV\n",
    "from sklearn import datasets\n",
    "from sklearn.metrics import precision_score\n",
    "from sklearn.svm import SVC\n",
    "\n",
    "from modeldb.sklearn_native.ModelDbSyncer import *\n",
    "from modeldb.sklearn_native import SyncableMetrics\n",
    "\n",
    "# This is a sample usage of GridSearch in scikit, adapted from\n",
    "# http://scikit-learn.org/stable/auto_examples/model_selection/grid_search_digits.html\n",
    "name = \"grid search\"\n",
    "author = \"srinidhi\"\n",
    "description = \"digits dataset\"\n",
    "syncer_obj = Syncer(\n",
    "    NewOrExistingProject(name, author, description),\n",
    "    DefaultExperiment(),\n",
    "    NewExperimentRun(\"Abc\"))\n",
    "\n",
    "# Loading the Digits dataset\n",
    "digits = datasets.load_digits()\n",
    "\n",
    "# To apply an classifier on this data, we need to flatten the image, to\n",
    "# turn the data in a (samples, feature) matrix:\n",
    "n_samples = len(digits.images)\n",
    "X = digits.images.reshape((n_samples, -1))\n",
    "y = digits.target\n",
    "\n",
    "# Split the dataset in two equal parts\n",
    "x_train, x_test, y_train, y_test = cross_validation.train_test_split_sync(\n",
    "    X, y, test_size=0.5, random_state=0)\n",
    "\n",
    "# Set the parameters by cross-validation\n",
    "tuned_parameters = [{'kernel': ['rbf'], 'gamma': [1e-3, 1e-4],\n",
    "                     'C': [1, 10, 100, 1000]},\n",
    "                    {'kernel': ['linear'], 'C': [1, 10, 100, 1000]}]\n",
    "\n",
    "clf = GridSearchCV(SVC(C=1), tuned_parameters, cv=5)\n",
    "clf.fit_sync(x_train, y_train)\n",
    "\n",
    "print(\"The model is trained on the full development set.\")\n",
    "print(\"The scores are computed on the full evaluation set.\")\n",
    "y_pred = clf.predict_sync(x_test)\n",
    "mean_error = SyncableMetrics.compute_metrics(\n",
    "    clf, precision_score, y_test, y_pred, x_test, '', '')\n",
    "\n",
    "syncer_obj.sync()"
   ]
  },
  {
   "cell_type": "markdown",
   "metadata": {},
   "source": [
    "## Regression"
   ]
  },
  {
   "cell_type": "code",
   "execution_count": 3,
   "metadata": {},
   "outputs": [
    {
     "name": "stdout",
     "output_type": "stream",
     "text": [
      "['mean_fit_time', 'mean_score_time', 'mean_test_score', 'mean_train_score', 'param_n_jobs', 'params', 'rank_test_score', 'split0_test_score', 'split0_train_score', 'split1_test_score', 'split1_train_score', 'split2_test_score', 'split2_train_score', 'std_fit_time', 'std_score_time', 'std_test_score', 'std_train_score']\n"
     ]
    },
    {
     "data": {
      "text/plain": [
       "9.2038790481688579"
      ]
     },
     "execution_count": 3,
     "metadata": {},
     "output_type": "execute_result"
    }
   ],
   "source": [
    "import sklearn\n",
    "from sklearn import svm, datasets\n",
    "from sklearn.model_selection import GridSearchCV\n",
    "\n",
    "data = pd.DataFrame(boston.data,columns=datasets.load_boston().feature_names)\n",
    "data['target'] = pd.Series(datasets.load_boston().target)\n",
    "\n",
    "from sklearn.cross_validation import train_test_split\n",
    "x_train, x_test, y_train, y_test = train_test_split(data.iloc[:,:-1], data.iloc[:,-1], test_size=10, random_state=42)\n",
    "\n",
    "parameters = {'kernel':('linear', 'rbf'), 'C':[1, 10]}\n",
    "svc = svm.SVC()\n",
    "\n",
    "tuned_parameters = {\n",
    "    'n_jobs': (1,2,3)\n",
    "}\n",
    "\n",
    "model = sklearn.linear_model.LinearRegression()\n",
    "\n",
    "clf = GridSearchCV(model, tuned_parameters)\n",
    "clf.fit(x_train,y_train)\n",
    "predictions = clf.predict(x_test)\n",
    "\n",
    "print(sorted(clf.cv_results_.keys()))\n",
    "from sklearn.metrics import mean_squared_error # Same as the computation above the plot\n",
    "mean_squared_error(y_test, predictions)"
   ]
  },
  {
   "cell_type": "markdown",
   "metadata": {},
   "source": [
    "### With ModelDB"
   ]
  },
  {
   "cell_type": "code",
   "execution_count": 9,
   "metadata": {},
   "outputs": [
    {
     "name": "stdout",
     "output_type": "stream",
     "text": [
      "[ 29.20350997  36.24928191  13.86750133  24.63174372  18.61348409\n",
      "  23.0655571   17.6437391   13.57232198  23.13303812  20.54041793]\n",
      "9.20387904817\n"
     ]
    }
   ],
   "source": [
    "# pkg_resources.require(\"modeldb==0.0.1a31\")\n",
    "import sklearn\n",
    "from sklearn import svm, datasets\n",
    "from sklearn.model_selection import GridSearchCV\n",
    "import pkg_resources\n",
    "import modeldb.sklearn_native.ModelDbSyncer as mdb\n",
    "\n",
    "import pandas as pd\n",
    "\n",
    "from sklearn.datasets import load_boston\n",
    "boston = load_boston()\n",
    "data = pd.DataFrame(boston.data,columns=datasets.load_boston().feature_names)\n",
    "data['target'] = pd.Series(datasets.load_boston().target)\n",
    "\n",
    "\n",
    "from sklearn.cross_validation import train_test_split\n",
    "x_train, x_test, y_train, y_test = train_test_split(data.iloc[:,:-1], data.iloc[:,-1], test_size=10, random_state=42)\n",
    "\n",
    "\n",
    "from modeldb.sklearn_native.ModelDbSyncer import *\n",
    "from modeldb.sklearn_native import SyncableMetrics\n",
    "\n",
    "name = \"ModelDB Brownbag - Regression 2\"\n",
    "author = \"srinidhi\"\n",
    "description = \"digits dataset\"\n",
    "syncer_obj = mdb.Syncer(\n",
    "    mdb.NewOrExistingProject(name, author, description),\n",
    "    mdb.DefaultExperiment(),\n",
    "    mdb.NewExperimentRun(\"test\"))\n",
    "\n",
    "\n",
    "tuned_parameters = {\n",
    "    'n_jobs': (1,2,3)\n",
    "}\n",
    "\n",
    "model = mdb.linear_model.LinearRegression()\n",
    "\n",
    "clf = mdb.GridSearchCV(model, tuned_parameters)\n",
    "clf.fit_sync(x_train,y_train)\n",
    "predictions = clf.predict_sync(x_test)\n",
    "print(predictions)\n",
    "# print(sorted(clf.cv_results_.keys()))\n",
    "from sklearn.metrics import mean_squared_error # Same as the computation above the plot\n",
    "print(mean_squared_error(y_test, predictions))\n",
    "\n",
    "syncer_obj.sync()"
   ]
  },
  {
   "cell_type": "code",
   "execution_count": 18,
   "metadata": {},
   "outputs": [
    {
     "name": "stderr",
     "output_type": "stream",
     "text": [
      "/Users/nkreiling/miniconda3/lib/python3.6/site-packages/sklearn/lda.py:4: DeprecationWarning: lda.LDA has been moved to discriminant_analysis.LinearDiscriminantAnalysis in 0.17 and will be removed in 0.19\n",
      "  \"in 0.17 and will be removed in 0.19\", DeprecationWarning)\n",
      "/Users/nkreiling/miniconda3/lib/python3.6/site-packages/sklearn/learning_curve.py:22: DeprecationWarning: This module was deprecated in version 0.18 in favor of the model_selection module into which all the functions are moved. This module will be removed in 0.20\n",
      "  DeprecationWarning)\n",
      "/Users/nkreiling/miniconda3/lib/python3.6/site-packages/sklearn/metrics/metrics.py:4: DeprecationWarning: sklearn.metrics.metrics is deprecated and will be removed in 0.18. Please import from sklearn.metrics\n",
      "  DeprecationWarning)\n"
     ]
    },
    {
     "ename": "ImportError",
     "evalue": "cannot import name 'bincount'",
     "output_type": "error",
     "traceback": [
      "\u001b[0;31m---------------------------------------------------------------------------\u001b[0m",
      "\u001b[0;31mImportError\u001b[0m                               Traceback (most recent call last)",
      "\u001b[0;32m<ipython-input-18-45f01fd0d19e>\u001b[0m in \u001b[0;36m<module>\u001b[0;34m()\u001b[0m\n\u001b[1;32m     17\u001b[0m     \u001b[0mmdb\u001b[0m\u001b[0;34m.\u001b[0m\u001b[0mNewOrExistingProject\u001b[0m\u001b[0;34m(\u001b[0m\u001b[0mname\u001b[0m\u001b[0;34m,\u001b[0m \u001b[0mauthor\u001b[0m\u001b[0;34m,\u001b[0m \u001b[0mdescription\u001b[0m\u001b[0;34m)\u001b[0m\u001b[0;34m,\u001b[0m\u001b[0;34m\u001b[0m\u001b[0m\n\u001b[1;32m     18\u001b[0m     \u001b[0mmdb\u001b[0m\u001b[0;34m.\u001b[0m\u001b[0mDefaultExperiment\u001b[0m\u001b[0;34m(\u001b[0m\u001b[0;34m)\u001b[0m\u001b[0;34m,\u001b[0m\u001b[0;34m\u001b[0m\u001b[0m\n\u001b[0;32m---> 19\u001b[0;31m     mdb.NewExperimentRun(\"Abcde\"))\n\u001b[0m\u001b[1;32m     20\u001b[0m \u001b[0;34m\u001b[0m\u001b[0m\n\u001b[1;32m     21\u001b[0m \u001b[0mdigits\u001b[0m \u001b[0;34m=\u001b[0m \u001b[0mmdb\u001b[0m\u001b[0;34m.\u001b[0m\u001b[0mdatasets\u001b[0m\u001b[0;34m.\u001b[0m\u001b[0mload_digits\u001b[0m\u001b[0;34m(\u001b[0m\u001b[0;34m)\u001b[0m\u001b[0;34m\u001b[0m\u001b[0m\n",
      "\u001b[0;32m~/dev/inovex/modeldb/modeldb/client/python/modeldb/utils/Singleton.py\u001b[0m in \u001b[0;36m__call__\u001b[0;34m(cls, *args, **kwargs)\u001b[0m\n\u001b[1;32m     11\u001b[0m     \u001b[0;32mdef\u001b[0m \u001b[0m__call__\u001b[0m\u001b[0;34m(\u001b[0m\u001b[0mcls\u001b[0m\u001b[0;34m,\u001b[0m \u001b[0;34m*\u001b[0m\u001b[0margs\u001b[0m\u001b[0;34m,\u001b[0m \u001b[0;34m**\u001b[0m\u001b[0mkwargs\u001b[0m\u001b[0;34m)\u001b[0m\u001b[0;34m:\u001b[0m\u001b[0;34m\u001b[0m\u001b[0m\n\u001b[1;32m     12\u001b[0m         cls._instances[cls] = super(\n\u001b[0;32m---> 13\u001b[0;31m             Singleton, cls).__call__(*args, **kwargs)\n\u001b[0m\u001b[1;32m     14\u001b[0m         \u001b[0;32mreturn\u001b[0m \u001b[0mcls\u001b[0m\u001b[0;34m.\u001b[0m\u001b[0m_instances\u001b[0m\u001b[0;34m[\u001b[0m\u001b[0mcls\u001b[0m\u001b[0;34m]\u001b[0m\u001b[0;34m\u001b[0m\u001b[0m\n\u001b[1;32m     15\u001b[0m \u001b[0;34m\u001b[0m\u001b[0m\n",
      "\u001b[0;32m~/dev/inovex/modeldb/modeldb/client/python/modeldb/sklearn_native/ModelDbSyncer.py\u001b[0m in \u001b[0;36m__init__\u001b[0;34m(self, project_config, experiment_config, experiment_run_config, thrift_config)\u001b[0m\n\u001b[1;32m    294\u001b[0m             thrift_config=None):\n\u001b[1;32m    295\u001b[0m         \u001b[0mself\u001b[0m\u001b[0;34m.\u001b[0m\u001b[0mlocal_id_to_path\u001b[0m \u001b[0;34m=\u001b[0m \u001b[0;34m{\u001b[0m\u001b[0;34m}\u001b[0m\u001b[0;34m\u001b[0m\u001b[0m\n\u001b[0;32m--> 296\u001b[0;31m         \u001b[0mself\u001b[0m\u001b[0;34m.\u001b[0m\u001b[0menable_sklearn_sync_functions\u001b[0m\u001b[0;34m(\u001b[0m\u001b[0;34m)\u001b[0m\u001b[0;34m\u001b[0m\u001b[0m\n\u001b[0m\u001b[1;32m    297\u001b[0m         \u001b[0mself\u001b[0m\u001b[0;34m.\u001b[0m\u001b[0menable_pandas_sync_functions\u001b[0m\u001b[0;34m(\u001b[0m\u001b[0;34m)\u001b[0m\u001b[0;34m\u001b[0m\u001b[0m\n\u001b[1;32m    298\u001b[0m \u001b[0;34m\u001b[0m\u001b[0m\n",
      "\u001b[0;32m~/dev/inovex/modeldb/modeldb/client/python/modeldb/sklearn_native/ModelDbSyncer.py\u001b[0m in \u001b[0;36menable_sklearn_sync_functions\u001b[0;34m(self)\u001b[0m\n\u001b[1;32m    421\u001b[0m         \"\"\"\n\u001b[1;32m    422\u001b[0m         \u001b[0;31m# Linear Models (transform has been deprecated)\u001b[0m\u001b[0;34m\u001b[0m\u001b[0;34m\u001b[0m\u001b[0m\n\u001b[0;32m--> 423\u001b[0;31m         \u001b[0;32mfor\u001b[0m \u001b[0mname\u001b[0m\u001b[0;34m,\u001b[0m \u001b[0mclass_\u001b[0m \u001b[0;32min\u001b[0m \u001b[0mall_estimators\u001b[0m\u001b[0;34m(\u001b[0m\u001b[0;34m)\u001b[0m\u001b[0;34m:\u001b[0m\u001b[0;34m\u001b[0m\u001b[0m\n\u001b[0m\u001b[1;32m    424\u001b[0m             \u001b[0;32mif\u001b[0m \u001b[0mhasattr\u001b[0m\u001b[0;34m(\u001b[0m\u001b[0mclass_\u001b[0m\u001b[0;34m,\u001b[0m \u001b[0;34m'fit'\u001b[0m\u001b[0;34m)\u001b[0m\u001b[0;34m:\u001b[0m\u001b[0;34m\u001b[0m\u001b[0m\n\u001b[1;32m    425\u001b[0m                 \u001b[0msetattr\u001b[0m\u001b[0;34m(\u001b[0m\u001b[0mclass_\u001b[0m\u001b[0;34m,\u001b[0m \u001b[0;34m\"fit_sync\"\u001b[0m\u001b[0;34m,\u001b[0m \u001b[0mfit_fn\u001b[0m\u001b[0;34m)\u001b[0m\u001b[0;34m\u001b[0m\u001b[0m\n",
      "\u001b[0;32m~/miniconda3/lib/python3.6/site-packages/sklearn/utils/testing.py\u001b[0m in \u001b[0;36mall_estimators\u001b[0;34m(include_meta_estimators, include_other, type_filter, include_dont_test)\u001b[0m\n\u001b[1;32m    585\u001b[0m         \u001b[0;32mif\u001b[0m \u001b[0;34m(\u001b[0m\u001b[0;34m\".tests.\"\u001b[0m \u001b[0;32min\u001b[0m \u001b[0mmodname\u001b[0m\u001b[0;34m)\u001b[0m\u001b[0;34m:\u001b[0m\u001b[0;34m\u001b[0m\u001b[0m\n\u001b[1;32m    586\u001b[0m             \u001b[0;32mcontinue\u001b[0m\u001b[0;34m\u001b[0m\u001b[0m\n\u001b[0;32m--> 587\u001b[0;31m         \u001b[0mmodule\u001b[0m \u001b[0;34m=\u001b[0m \u001b[0m__import__\u001b[0m\u001b[0;34m(\u001b[0m\u001b[0mmodname\u001b[0m\u001b[0;34m,\u001b[0m \u001b[0mfromlist\u001b[0m\u001b[0;34m=\u001b[0m\u001b[0;34m\"dummy\"\u001b[0m\u001b[0;34m)\u001b[0m\u001b[0;34m\u001b[0m\u001b[0m\n\u001b[0m\u001b[1;32m    588\u001b[0m         \u001b[0mclasses\u001b[0m \u001b[0;34m=\u001b[0m \u001b[0minspect\u001b[0m\u001b[0;34m.\u001b[0m\u001b[0mgetmembers\u001b[0m\u001b[0;34m(\u001b[0m\u001b[0mmodule\u001b[0m\u001b[0;34m,\u001b[0m \u001b[0minspect\u001b[0m\u001b[0;34m.\u001b[0m\u001b[0misclass\u001b[0m\u001b[0;34m)\u001b[0m\u001b[0;34m\u001b[0m\u001b[0m\n\u001b[1;32m    589\u001b[0m         \u001b[0mall_classes\u001b[0m\u001b[0;34m.\u001b[0m\u001b[0mextend\u001b[0m\u001b[0;34m(\u001b[0m\u001b[0mclasses\u001b[0m\u001b[0;34m)\u001b[0m\u001b[0;34m\u001b[0m\u001b[0m\n",
      "\u001b[0;32m~/miniconda3/lib/python3.6/site-packages/sklearn/preprocessing/_weights.py\u001b[0m in \u001b[0;36m<module>\u001b[0;34m()\u001b[0m\n\u001b[1;32m      1\u001b[0m \u001b[0;32mimport\u001b[0m \u001b[0mnumpy\u001b[0m \u001b[0;32mas\u001b[0m \u001b[0mnp\u001b[0m\u001b[0;34m\u001b[0m\u001b[0m\n\u001b[0;32m----> 2\u001b[0;31m \u001b[0;32mfrom\u001b[0m \u001b[0;34m.\u001b[0m\u001b[0;34m.\u001b[0m\u001b[0mutils\u001b[0m\u001b[0;34m.\u001b[0m\u001b[0mfixes\u001b[0m \u001b[0;32mimport\u001b[0m \u001b[0mbincount\u001b[0m\u001b[0;34m\u001b[0m\u001b[0m\n\u001b[0m\u001b[1;32m      3\u001b[0m \u001b[0;34m\u001b[0m\u001b[0m\n\u001b[1;32m      4\u001b[0m \u001b[0;34m\u001b[0m\u001b[0m\n\u001b[1;32m      5\u001b[0m \u001b[0;32mdef\u001b[0m \u001b[0m_balance_weights\u001b[0m\u001b[0;34m(\u001b[0m\u001b[0my\u001b[0m\u001b[0;34m)\u001b[0m\u001b[0;34m:\u001b[0m\u001b[0;34m\u001b[0m\u001b[0m\n",
      "\u001b[0;31mImportError\u001b[0m: cannot import name 'bincount'"
     ]
    }
   ],
   "source": [
    "from sklearn.grid_search import GridSearchCV\n",
    "from sklearn.feature_extraction.text import TfidfTransformer\n",
    "from sklearn.linear_model import SGDClassifier\n",
    "from sklearn.pipeline import Pipeline\n",
    "\n",
    "import modeldb.sklearn_native.ModelDbSyncer as mdb\n",
    "\n",
    "from modeldb.sklearn_native.ModelDbSyncer import *\n",
    "from modeldb.sklearn_native import SyncableMetrics\n",
    "\n",
    "# Uses GridSearch and Pipeline objects in scikit, adapted from\n",
    "# http://scikit-learn.org/stable/auto_examples/model_selection/grid_search_text_feature_extraction.html\n",
    "name = \"ModelDB Brownbag - Regression\"\n",
    "author = \"srinidhi\"\n",
    "description = \"digits dataset\"\n",
    "syncer_obj = mdb.Syncer(\n",
    "    mdb.NewOrExistingProject(name, author, description),\n",
    "    mdb.DefaultExperiment(),\n",
    "    mdb.NewExperimentRun(\"Abcde\"))\n",
    "\n",
    "digits = mdb.datasets.load_digits()\n",
    "x = digits.data[:1000]\n",
    "y = digits.target[:1000]\n",
    "\n",
    "# parameters = {\n",
    "#     'alpha': (0.00001, 0.000001)\n",
    "# }\n",
    "\n",
    "# tuned_parameters = [{'n_jobs': [1]},\n",
    "#                     {'n_jobs': [2,3]}]\n",
    "\n",
    "tuned_parameters = {\n",
    "    'n_jobs': (1,2,3)\n",
    "}\n",
    "\n",
    "model = sklearn.linear_model.LinearRegression()\n",
    "\n",
    "# from mdb.grid_search import GridSearchCV\n",
    "from sklearn.metrics import mean_squared_error # Same as the computation above the plot\n",
    "clfGrid = GridSearchCV(model, tuned_parameters, cv=5, scoring=mean_squared_error)\n",
    "clfGrid.fit(x_train, y_train)\n",
    "# clfGrid.fit_sync(data.iloc[:,:-1], data.iloc[:,-1])\n",
    "\n",
    "syncer_obj.sync()\n",
    "\n",
    "dist =  {\n",
    "    'alpha': scipy.stats.expon(scale=100)\n",
    "}\n",
    "# clfRandom = RandomizedSearchCV(\n",
    "#     model, dist, cv=None, scoring='%s_weighted' % 'precision')\n",
    "\n",
    "# clfRandom.fit_sync(x, y)\n",
    "# syncer_obj.sync()"
   ]
  },
  {
   "cell_type": "markdown",
   "metadata": {},
   "source": [
    "## Classification"
   ]
  },
  {
   "cell_type": "code",
   "execution_count": 20,
   "metadata": {
    "collapsed": true
   },
   "outputs": [],
   "source": [
    "import modeldb.sklearn_native.SyncableMetrics\n",
    "from sklearn.metrics import mean_absolute_error"
   ]
  },
  {
   "cell_type": "code",
   "execution_count": 21,
   "metadata": {},
   "outputs": [
    {
     "data": {
      "text/html": [
       "<div>\n",
       "<table border=\"1\" class=\"dataframe\">\n",
       "  <thead>\n",
       "    <tr style=\"text-align: right;\">\n",
       "      <th></th>\n",
       "      <th>sepal length (cm)</th>\n",
       "      <th>sepal width (cm)</th>\n",
       "      <th>petal length (cm)</th>\n",
       "      <th>petal width (cm)</th>\n",
       "      <th>target</th>\n",
       "    </tr>\n",
       "  </thead>\n",
       "  <tbody>\n",
       "    <tr>\n",
       "      <th>105</th>\n",
       "      <td>7.6</td>\n",
       "      <td>3.0</td>\n",
       "      <td>6.6</td>\n",
       "      <td>2.1</td>\n",
       "      <td>2</td>\n",
       "    </tr>\n",
       "    <tr>\n",
       "      <th>145</th>\n",
       "      <td>6.7</td>\n",
       "      <td>3.0</td>\n",
       "      <td>5.2</td>\n",
       "      <td>2.3</td>\n",
       "      <td>2</td>\n",
       "    </tr>\n",
       "    <tr>\n",
       "      <th>43</th>\n",
       "      <td>5.0</td>\n",
       "      <td>3.5</td>\n",
       "      <td>1.6</td>\n",
       "      <td>0.6</td>\n",
       "      <td>0</td>\n",
       "    </tr>\n",
       "    <tr>\n",
       "      <th>51</th>\n",
       "      <td>6.4</td>\n",
       "      <td>3.2</td>\n",
       "      <td>4.5</td>\n",
       "      <td>1.5</td>\n",
       "      <td>1</td>\n",
       "    </tr>\n",
       "    <tr>\n",
       "      <th>12</th>\n",
       "      <td>4.8</td>\n",
       "      <td>3.0</td>\n",
       "      <td>1.4</td>\n",
       "      <td>0.1</td>\n",
       "      <td>0</td>\n",
       "    </tr>\n",
       "  </tbody>\n",
       "</table>\n",
       "</div>"
      ],
      "text/plain": [
       "     sepal length (cm)  sepal width (cm)  petal length (cm)  petal width (cm)  \\\n",
       "105                7.6               3.0                6.6               2.1   \n",
       "145                6.7               3.0                5.2               2.3   \n",
       "43                 5.0               3.5                1.6               0.6   \n",
       "51                 6.4               3.2                4.5               1.5   \n",
       "12                 4.8               3.0                1.4               0.1   \n",
       "\n",
       "     target  \n",
       "105       2  \n",
       "145       2  \n",
       "43        0  \n",
       "51        1  \n",
       "12        0  "
      ]
     },
     "metadata": {},
     "output_type": "display_data"
    }
   ],
   "source": [
    "from sklearn.datasets import load_iris\n",
    "iris = pd.DataFrame(load_iris().data,columns=load_iris().feature_names)\n",
    "iris['target'] = pd.Series(load_iris().target)\n",
    "ipd(iris.sample(5))"
   ]
  },
  {
   "cell_type": "code",
   "execution_count": 22,
   "metadata": {
    "collapsed": true
   },
   "outputs": [],
   "source": [
    "import modeldb.sklearn_native.ModelDbSyncer as mdb\n",
    "from modeldb.sklearn_native import SyncableMetrics\n",
    "\n",
    "name = \"ModelDB Brownbag - Classification\"\n",
    "author = \"Nico\"\n",
    "description = \"using iris Dataset\"\n",
    "class_syncer = mdb.Syncer(\n",
    "    mdb.NewOrExistingProject(name, author, description),\n",
    "    mdb.DefaultExperiment(),\n",
    "    mdb.NewExperimentRun(\"Abcd\"))\n",
    "\n",
    "# test_data, train_data = mdb.cross_validation.train_test_split_sync(data, test_size=0.8, random_state=42)\n",
    "x_train, x_test, y_train, y_test = mdb.cross_validation.train_test_split_sync(iris.iloc[:,:-1], iris.iloc[:,-1], test_size=10, random_state=42)\n",
    "\n",
    "model = mdb.linear_model.LogisticRegression()\n",
    "model.fit_sync(x_train, y_train)\n",
    "test_pred = model.predict_sync(x_test)\n",
    "\n",
    "accuracy = SyncableMetrics.compute_metrics(model, mean_absolute_error, y_test, test_pred, data.iloc[:,:-1].values,\"predictionCol\", 'target')\n",
    "class_syncer.sync()"
   ]
  },
  {
   "cell_type": "code",
   "execution_count": 23,
   "metadata": {
    "collapsed": true
   },
   "outputs": [],
   "source": [
    "model = sklearn.svm.SVC()\n",
    "model = modeldb.sklearn_native.ModelDbSyncer.SVC()\n",
    "model.fit_sync(x_train, y_train)\n",
    "test_pred = model.predict_sync(x_test)\n",
    "\n",
    "accuracy = SyncableMetrics.compute_metrics(model, mean_absolute_error, y_test, test_pred, data.iloc[:,:-1].values,\"predictionCol\", 'target')\n",
    "syncer_obj.sync()"
   ]
  },
  {
   "cell_type": "code",
   "execution_count": 26,
   "metadata": {
    "scrolled": false
   },
   "outputs": [
    {
     "ename": "AttributeError",
     "evalue": "'GridSearchCV' object has no attribute 'fit_sync'",
     "output_type": "error",
     "traceback": [
      "\u001b[0;31m---------------------------------------------------------------------------\u001b[0m",
      "\u001b[0;31mAttributeError\u001b[0m                            Traceback (most recent call last)",
      "\u001b[0;32m<ipython-input-26-24cd07831c84>\u001b[0m in \u001b[0;36m<module>\u001b[0;34m()\u001b[0m\n\u001b[1;32m     19\u001b[0m \u001b[0mclfGrid\u001b[0m \u001b[0;34m=\u001b[0m \u001b[0mGridSearchCV\u001b[0m\u001b[0;34m(\u001b[0m\u001b[0mmodel\u001b[0m\u001b[0;34m,\u001b[0m \u001b[0mtuned_parameters\u001b[0m\u001b[0;34m,\u001b[0m \u001b[0mcv\u001b[0m\u001b[0;34m=\u001b[0m\u001b[0;36m5\u001b[0m\u001b[0;34m)\u001b[0m\u001b[0;34m\u001b[0m\u001b[0m\n\u001b[1;32m     20\u001b[0m \u001b[0;34m\u001b[0m\u001b[0m\n\u001b[0;32m---> 21\u001b[0;31m \u001b[0mclfGrid\u001b[0m\u001b[0;34m.\u001b[0m\u001b[0mfit_sync\u001b[0m\u001b[0;34m(\u001b[0m\u001b[0mdata\u001b[0m\u001b[0;34m.\u001b[0m\u001b[0miloc\u001b[0m\u001b[0;34m[\u001b[0m\u001b[0;34m:\u001b[0m\u001b[0;34m,\u001b[0m\u001b[0;34m:\u001b[0m\u001b[0;34m-\u001b[0m\u001b[0;36m1\u001b[0m\u001b[0;34m]\u001b[0m\u001b[0;34m,\u001b[0m \u001b[0mdata\u001b[0m\u001b[0;34m.\u001b[0m\u001b[0miloc\u001b[0m\u001b[0;34m[\u001b[0m\u001b[0;34m:\u001b[0m\u001b[0;34m,\u001b[0m\u001b[0;34m-\u001b[0m\u001b[0;36m1\u001b[0m\u001b[0;34m]\u001b[0m\u001b[0;34m)\u001b[0m\u001b[0;34m\u001b[0m\u001b[0m\n\u001b[0m\u001b[1;32m     22\u001b[0m \u001b[0my_pred\u001b[0m \u001b[0;34m=\u001b[0m \u001b[0mclfGrid\u001b[0m\u001b[0;34m.\u001b[0m\u001b[0mpredict_sync\u001b[0m\u001b[0;34m(\u001b[0m\u001b[0mx_test\u001b[0m\u001b[0;34m)\u001b[0m\u001b[0;34m\u001b[0m\u001b[0m\n\u001b[1;32m     23\u001b[0m \u001b[0;34m\u001b[0m\u001b[0m\n",
      "\u001b[0;31mAttributeError\u001b[0m: 'GridSearchCV' object has no attribute 'fit_sync'"
     ]
    }
   ],
   "source": [
    "from sklearn.feature_extraction.text import TfidfTransformer\n",
    "from sklearn.linear_model import SGDClassifier\n",
    "from sklearn.grid_search import GridSearchCV\n",
    "from sklearn.grid_search import RandomizedSearchCV\n",
    "from sklearn.pipeline import Pipeline\n",
    "\n",
    "import modeldb.sklearn_native.ModelDbSyncer as mdb\n",
    "\n",
    "from modeldb.sklearn_native.ModelDbSyncer import *\n",
    "from modeldb.sklearn_native import SyncableMetrics\n",
    "\n",
    "tuned_parameters = [{'kernel': ['rbf'], 'gamma': [1e-3, 1e-4],\n",
    "                     'C': [1, 10, 100, 1000]},\n",
    "                    {'kernel': ['linear'], 'C': [1, 10, 100, 1000]}]\n",
    "\n",
    "# clf = GridSearchCV(SVC(C=1), tuned_parameters, cv=5)\n",
    "# clf.fit_sync(x_train, y_train)\n",
    "model = SVC()\n",
    "clfGrid = GridSearchCV(model, tuned_parameters, cv=5)\n",
    "\n",
    "clfGrid.fit_sync(data.iloc[:,:-1], data.iloc[:,-1])\n",
    "y_pred = clfGrid.predict_sync(x_test)\n",
    "\n",
    "from sklearn.metrics import precision_score\n",
    "mean_error = SyncableMetrics.compute_metrics(\n",
    "    clfGrid, precision_score, y_test, y_pred, x_test, '', '')\n",
    "\n",
    "class_syncer.sync()\n",
    "\n",
    "dist =  {\n",
    "    'alpha': scipy.stats.expon(scale=100)\n",
    "}\n",
    "# clfRandom = RandomizedSearchCV(\n",
    "#     model, dist, cv=None, scoring='%s_weighted' % 'precision')\n",
    "\n",
    "# clfRandom.fit_sync(x, y)\n",
    "# class_syncer_obj.sync()"
   ]
  },
  {
   "cell_type": "code",
   "execution_count": null,
   "metadata": {
    "collapsed": true
   },
   "outputs": [],
   "source": [
    "# Model Selection\n",
    "dist =  {'alpha': scipy.stats.expon(scale=100)}\n",
    "gs = skl.grid_search.RandomizedSearchCV(lasso, dist)\n",
    "gs.fit_sync(x_train,y_train)\n",
    "syncer_obj.sync()\n",
    "\n",
    "test_pred = gs.predict(x_test)\n",
    "\n",
    "from sklearn.metrics import mean_absolute_error\n",
    "accuracy = SyncableMetrics.compute_metrics(gs, mean_absolute_error, y_test, test_pred, data.iloc[:,:-1].values,\"predictionCol\", 'target')"
   ]
  },
  {
   "cell_type": "code",
   "execution_count": null,
   "metadata": {
    "collapsed": true
   },
   "outputs": [],
   "source": [
    "lasso = mdb.linear_model.Lasso()"
   ]
  },
  {
   "cell_type": "code",
   "execution_count": null,
   "metadata": {
    "collapsed": true
   },
   "outputs": [],
   "source": [
    "\n",
    "from modeldb.basic.Structs import (\n",
    "    Model, ModelConfig, ModelMetrics, Dataset)\n",
    "from modeldb.basic.ModelDbSyncerBase import Syncer\n",
    "\n",
    "# Create a syncer using a convenience API\n",
    "syncer_obj = Syncer.create_syncer(\"Sample Project\", \\\n",
    "                                  \"test_user\", \\\n",
    "                                  \"use sync_all\", \\\n",
    "                                  host=\"backend\")\n",
    "\n",
    "\n",
    "datasets = {\n",
    "    \"train\": Dataset(\"/path/to/train\", {\"num_cols\": 15, \"dist\": \"random\"}),\n",
    "    \"test\": Dataset(\"/path/to/test\", {\"num_cols\": 15, \"dist\": \"gaussian\"})\n",
    "}\n",
    "model = \"model_obj\"\n",
    "mdb_model1 = Model(\"NN\", model, \"/path/to/model1\")\n",
    "model_config1 = ModelConfig(\"NN\", {\"l1\": 10})\n",
    "model_metrics1 = ModelMetrics({\"accuracy\": 0.8})\n",
    "\n",
    "mdb_model2 = Model(\"NN\", model, \"/path/to/model2\")\n",
    "model_config2 = ModelConfig(\"NN\", {\"l1\": 20})\n",
    "model_metrics2 = ModelMetrics({\"accuracy\": 0.9})\n",
    "\n",
    "syncer_obj.sync_datasets(datasets)\n",
    "\n",
    "syncer_obj.sync_model(\"train\", model_config1, mdb_model1)\n",
    "syncer_obj.sync_metrics(\"test\", mdb_model1, model_metrics1)\n",
    "\n",
    "syncer_obj.sync_model(\"train\", model_config2, mdb_model2)\n",
    "syncer_obj.sync_metrics(\"test\", mdb_model2, model_metrics2)\n",
    "\n",
    "syncer_obj.sync()"
   ]
  },
  {
   "cell_type": "markdown",
   "metadata": {
    "collapsed": true
   },
   "source": [
    "# Other"
   ]
  },
  {
   "cell_type": "markdown",
   "metadata": {},
   "source": [
    "## List all SKLearn estimator with method fit and predict"
   ]
  },
  {
   "cell_type": "code",
   "execution_count": 15,
   "metadata": {
    "collapsed": true
   },
   "outputs": [
    {
     "name": "stdout",
     "output_type": "stream",
     "text": [
      "<class 'sklearn.linear_model.bayes.ARDRegression'>\n",
      "<class 'sklearn.ensemble.weight_boosting.AdaBoostClassifier'>\n",
      "<class 'sklearn.ensemble.weight_boosting.AdaBoostRegressor'>\n",
      "<class 'sklearn.cluster.affinity_propagation_.AffinityPropagation'>\n",
      "<class 'sklearn.ensemble.bagging.BaggingClassifier'>\n",
      "<class 'sklearn.ensemble.bagging.BaggingRegressor'>\n",
      "<class 'sklearn.linear_model.bayes.BayesianRidge'>\n",
      "<class 'sklearn.naive_bayes.BernoulliNB'>\n",
      "<class 'sklearn.cluster.birch.Birch'>\n",
      "<class 'sklearn.cross_decomposition.cca_.CCA'>\n",
      "<class 'sklearn.calibration.CalibratedClassifierCV'>\n",
      "<class 'sklearn.mixture.dpgmm.DPGMM'>\n",
      "<class 'sklearn.tree.tree.DecisionTreeClassifier'>\n",
      "<class 'sklearn.tree.tree.DecisionTreeRegressor'>\n",
      "<class 'sklearn.linear_model.coordinate_descent.ElasticNet'>\n",
      "<class 'sklearn.linear_model.coordinate_descent.ElasticNetCV'>\n",
      "<class 'sklearn.tree.tree.ExtraTreeClassifier'>\n",
      "<class 'sklearn.tree.tree.ExtraTreeRegressor'>\n",
      "<class 'sklearn.ensemble.forest.ExtraTreesClassifier'>\n",
      "<class 'sklearn.ensemble.forest.ExtraTreesRegressor'>\n",
      "<class 'sklearn.mixture.gmm.GMM'>\n",
      "<class 'sklearn.naive_bayes.GaussianNB'>\n",
      "<class 'sklearn.gaussian_process.gaussian_process.GaussianProcess'>\n",
      "<class 'sklearn.ensemble.gradient_boosting.GradientBoostingClassifier'>\n",
      "<class 'sklearn.ensemble.gradient_boosting.GradientBoostingRegressor'>\n",
      "<class 'sklearn.cluster.k_means_.KMeans'>\n",
      "<class 'sklearn.neighbors.classification.KNeighborsClassifier'>\n",
      "<class 'sklearn.neighbors.regression.KNeighborsRegressor'>\n",
      "<class 'sklearn.kernel_ridge.KernelRidge'>\n",
      "<class 'sklearn.discriminant_analysis.LinearDiscriminantAnalysis'>\n",
      "<class 'sklearn.semi_supervised.label_propagation.LabelPropagation'>\n",
      "<class 'sklearn.semi_supervised.label_propagation.LabelSpreading'>\n",
      "<class 'sklearn.linear_model.least_angle.Lars'>\n",
      "<class 'sklearn.linear_model.least_angle.LarsCV'>\n",
      "<class 'sklearn.linear_model.coordinate_descent.Lasso'>\n",
      "<class 'sklearn.linear_model.coordinate_descent.LassoCV'>\n",
      "<class 'sklearn.linear_model.least_angle.LassoLars'>\n",
      "<class 'sklearn.linear_model.least_angle.LassoLarsCV'>\n",
      "<class 'sklearn.linear_model.least_angle.LassoLarsIC'>\n",
      "<class 'sklearn.discriminant_analysis.LinearDiscriminantAnalysis'>\n",
      "<class 'sklearn.linear_model.base.LinearRegression'>\n",
      "<class 'sklearn.svm.classes.LinearSVC'>\n",
      "<class 'sklearn.svm.classes.LinearSVR'>\n",
      "<class 'sklearn.linear_model.logistic.LogisticRegression'>\n",
      "<class 'sklearn.linear_model.logistic.LogisticRegressionCV'>\n",
      "<class 'sklearn.cluster.mean_shift_.MeanShift'>\n",
      "<class 'sklearn.cluster.k_means_.MiniBatchKMeans'>\n",
      "<class 'sklearn.linear_model.coordinate_descent.MultiTaskElasticNet'>\n",
      "<class 'sklearn.linear_model.coordinate_descent.MultiTaskElasticNetCV'>\n",
      "<class 'sklearn.linear_model.coordinate_descent.MultiTaskLasso'>\n",
      "<class 'sklearn.linear_model.coordinate_descent.MultiTaskLassoCV'>\n",
      "<class 'sklearn.naive_bayes.MultinomialNB'>\n",
      "<class 'sklearn.neighbors.nearest_centroid.NearestCentroid'>\n",
      "<class 'sklearn.svm.classes.NuSVC'>\n",
      "<class 'sklearn.svm.classes.NuSVR'>\n",
      "<class 'sklearn.svm.classes.OneClassSVM'>\n",
      "<class 'sklearn.linear_model.omp.OrthogonalMatchingPursuit'>\n",
      "<class 'sklearn.linear_model.omp.OrthogonalMatchingPursuitCV'>\n",
      "<class 'sklearn.cross_decomposition.pls_.PLSCanonical'>\n",
      "<class 'sklearn.cross_decomposition.pls_.PLSRegression'>\n",
      "<class 'sklearn.linear_model.passive_aggressive.PassiveAggressiveClassifier'>\n",
      "<class 'sklearn.linear_model.passive_aggressive.PassiveAggressiveRegressor'>\n",
      "<class 'sklearn.linear_model.perceptron.Perceptron'>\n",
      "<class 'sklearn.discriminant_analysis.QuadraticDiscriminantAnalysis'>\n",
      "<class 'sklearn.discriminant_analysis.QuadraticDiscriminantAnalysis'>\n",
      "<class 'sklearn.linear_model.ransac.RANSACRegressor'>\n",
      "<class 'sklearn.neighbors.classification.RadiusNeighborsClassifier'>\n",
      "<class 'sklearn.neighbors.regression.RadiusNeighborsRegressor'>\n",
      "<class 'sklearn.ensemble.forest.RandomForestClassifier'>\n",
      "<class 'sklearn.ensemble.forest.RandomForestRegressor'>\n",
      "<class 'sklearn.linear_model.ridge.Ridge'>\n",
      "<class 'sklearn.linear_model.ridge.RidgeCV'>\n",
      "<class 'sklearn.linear_model.ridge.RidgeClassifier'>\n",
      "<class 'sklearn.linear_model.ridge.RidgeClassifierCV'>\n",
      "<class 'sklearn.linear_model.stochastic_gradient.SGDClassifier'>\n",
      "<class 'sklearn.linear_model.stochastic_gradient.SGDRegressor'>\n",
      "<class 'sklearn.svm.classes.SVC'>\n",
      "<class 'sklearn.svm.classes.SVR'>\n",
      "<class 'sklearn.linear_model.theil_sen.TheilSenRegressor'>\n",
      "<class 'sklearn.mixture.dpgmm.VBGMM'>\n",
      "<class 'sklearn.linear_model.ridge._BaseRidgeCV'>\n",
      "<class 'sklearn.multiclass._ConstantPredictor'>\n",
      "<class 'sklearn.linear_model.ridge._RidgeGCV'>\n"
     ]
    },
    {
     "data": {
      "text/plain": [
       "83"
      ]
     },
     "execution_count": 15,
     "metadata": {},
     "output_type": "execute_result"
    }
   ],
   "source": [
    "from sklearn.utils.testing import all_estimators\n",
    "i = 0\n",
    "for name, class_ in all_estimators():\n",
    "    if hasattr(class_, 'fit') and hasattr(class_, 'predict'):\n",
    "        i+=1\n",
    "        print(class_)\n",
    "i"
   ]
  },
  {
   "cell_type": "code",
   "execution_count": 6,
   "metadata": {},
   "outputs": [
    {
     "ename": "ModuleNotFoundError",
     "evalue": "No module named 'modeldb.sklearn_native'",
     "output_type": "error",
     "traceback": [
      "\u001b[0;31m---------------------------------------------------------------------------\u001b[0m",
      "\u001b[0;31mModuleNotFoundError\u001b[0m                       Traceback (most recent call last)",
      "\u001b[0;32m<ipython-input-6-8c2ea976d542>\u001b[0m in \u001b[0;36m<module>\u001b[0;34m()\u001b[0m\n\u001b[1;32m      4\u001b[0m \u001b[0;32mfrom\u001b[0m \u001b[0msklearn\u001b[0m\u001b[0;34m.\u001b[0m\u001b[0msvm\u001b[0m \u001b[0;32mimport\u001b[0m \u001b[0mSVC\u001b[0m\u001b[0;34m\u001b[0m\u001b[0m\n\u001b[1;32m      5\u001b[0m \u001b[0;34m\u001b[0m\u001b[0m\n\u001b[0;32m----> 6\u001b[0;31m \u001b[0;32mfrom\u001b[0m \u001b[0mmodeldb\u001b[0m\u001b[0;34m.\u001b[0m\u001b[0msklearn_native\u001b[0m\u001b[0;34m.\u001b[0m\u001b[0mModelDbSyncer\u001b[0m \u001b[0;32mimport\u001b[0m \u001b[0;34m*\u001b[0m\u001b[0;34m\u001b[0m\u001b[0m\n\u001b[0m\u001b[1;32m      7\u001b[0m \u001b[0;32mfrom\u001b[0m \u001b[0mmodeldb\u001b[0m\u001b[0;34m.\u001b[0m\u001b[0msklearn_native\u001b[0m \u001b[0;32mimport\u001b[0m \u001b[0mSyncableMetrics\u001b[0m\u001b[0;34m\u001b[0m\u001b[0m\n\u001b[1;32m      8\u001b[0m \u001b[0;34m\u001b[0m\u001b[0m\n",
      "\u001b[0;31mModuleNotFoundError\u001b[0m: No module named 'modeldb.sklearn_native'"
     ]
    }
   ],
   "source": [
    "from sklearn.grid_search import GridSearchCV\n",
    "from sklearn import datasets\n",
    "from sklearn.metrics import precision_score\n",
    "from sklearn.svm import SVC\n",
    "\n",
    "from modeldb.sklearn_native.ModelDbSyncer import *\n",
    "from modeldb.sklearn_native import SyncableMetrics\n",
    "\n",
    "# This is a sample usage of GridSearch in scikit, adapted from\n",
    "# http://scikit-learn.org/stable/auto_examples/model_selection/grid_search_digits.html\n",
    "name = \"grid search\"\n",
    "author = \"srinidhi\"\n",
    "description = \"digits dataset\"\n",
    "syncer_obj = Syncer(\n",
    "    NewOrExistingProject(name, author, description),\n",
    "    DefaultExperiment(),\n",
    "    NewExperimentRun(\"Abc\"))\n",
    "\n",
    "# Loading the Digits dataset\n",
    "digits = datasets.load_digits()\n",
    "\n",
    "# To apply an classifier on this data, we need to flatten the image, to\n",
    "# turn the data in a (samples, feature) matrix:\n",
    "n_samples = len(digits.images)\n",
    "X = digits.images.reshape((n_samples, -1))\n",
    "y = digits.target\n",
    "\n",
    "# Split the dataset in two equal parts\n",
    "x_train, x_test, y_train, y_test = cross_validation.train_test_split_sync(\n",
    "    X, y, test_size=0.5, random_state=0)\n",
    "\n",
    "# Set the parameters by cross-validation\n",
    "tuned_parameters = [{'kernel': ['rbf'], 'gamma': [1e-3, 1e-4],\n",
    "                     'C': [1, 10, 100, 1000]},\n",
    "                    {'kernel': ['linear'], 'C': [1, 10, 100, 1000]}]\n",
    "\n",
    "clf = GridSearchCV(SVC(), tuned_parameters, cv=5)\n",
    "clf.fit_sync(x_train, y_train)\n",
    "\n",
    "print(\"The model is trained on the full development set.\")\n",
    "print(\"The scores are computed on the full evaluation set.\")\n",
    "y_pred = clf.predict_sync(x_test)\n",
    "mean_error = SyncableMetrics.compute_metrics(\n",
    "    clf, precision_score, y_test, y_pred, x_test, '', '')\n",
    "\n",
    "syncer_obj.sync()"
   ]
  },
  {
   "cell_type": "code",
   "execution_count": null,
   "metadata": {
    "collapsed": true
   },
   "outputs": [],
   "source": [
    "import os\n",
    "import sys\n",
    "os.getcwd() \n",
    "print(sys.executable)\n",
    "sys.path"
   ]
  }
 ],
 "metadata": {
  "kernelspec": {
   "display_name": "Python 3",
   "language": "python",
   "name": "python3"
  },
  "language_info": {
   "codemirror_mode": {
    "name": "ipython",
    "version": 3
   },
   "file_extension": ".py",
   "mimetype": "text/x-python",
   "name": "python",
   "nbconvert_exporter": "python",
   "pygments_lexer": "ipython3",
   "version": "3.6.4"
  },
  "toc": {
   "nav_menu": {},
   "number_sections": true,
   "sideBar": true,
   "skip_h1_title": false,
   "title_cell": "Table of Contents",
   "title_sidebar": "Contents",
   "toc_cell": false,
   "toc_position": {},
   "toc_section_display": true,
   "toc_window_display": true
  },
  "varInspector": {
   "cols": {
    "lenName": 16,
    "lenType": 16,
    "lenVar": 40
   },
   "kernels_config": {
    "python": {
     "delete_cmd_postfix": "",
     "delete_cmd_prefix": "del ",
     "library": "var_list.py",
     "varRefreshCmd": "print(var_dic_list())"
    },
    "r": {
     "delete_cmd_postfix": ") ",
     "delete_cmd_prefix": "rm(",
     "library": "var_list.r",
     "varRefreshCmd": "cat(var_dic_list()) "
    }
   },
   "types_to_exclude": [
    "module",
    "function",
    "builtin_function_or_method",
    "instance",
    "_Feature"
   ],
   "window_display": false
  }
 },
 "nbformat": 4,
 "nbformat_minor": 2
}
